{
 "cells": [
  {
   "cell_type": "code",
   "execution_count": 2,
   "metadata": {},
   "outputs": [
    {
     "data": {
      "text/html": [
       "<style>.container { width:100% !important; }</style>"
      ],
      "text/plain": [
       "<IPython.core.display.HTML object>"
      ]
     },
     "metadata": {},
     "output_type": "display_data"
    }
   ],
   "source": [
    "# experimental: you can run this cell to see your code full-width\n",
    "from IPython.display import display, HTML\n",
    "display(HTML(\"<style>.container { width:100% !important; }</style>\"))"
   ]
  },
  {
   "cell_type": "code",
   "execution_count": null,
   "metadata": {},
   "outputs": [],
   "source": [
    "# Top-tip! Use ctrl+Enter to run current cell (cmd+Enter on a mac)"
   ]
  },
  {
   "cell_type": "markdown",
   "metadata": {},
   "source": [
    "### Demo: Functions, ifs, comparators, print"
   ]
  },
  {
   "cell_type": "code",
   "execution_count": 6,
   "metadata": {},
   "outputs": [
    {
     "name": "stdout",
     "output_type": "stream",
     "text": [
      "False\n",
      "False\n",
      "True\n",
      "True\n",
      "True\n",
      "False\n",
      "False\n",
      "True\n"
     ]
    },
    {
     "ename": "TypeError",
     "evalue": "'<' not supported between instances of 'str' and 'int'",
     "output_type": "error",
     "traceback": [
      "\u001b[0;31m---------------------------------------------------------------------------\u001b[0m",
      "\u001b[0;31mTypeError\u001b[0m                                 Traceback (most recent call last)",
      "Cell \u001b[0;32mIn[6], line 23\u001b[0m\n\u001b[1;32m     17\u001b[0m \u001b[38;5;28mprint\u001b[39m(is_number_between_10_and_20(\u001b[38;5;241m100\u001b[39m))\n\u001b[1;32m     20\u001b[0m \u001b[38;5;28mprint\u001b[39m(is_number_between_10_and_20(\u001b[38;5;241m10\u001b[39m))\n\u001b[0;32m---> 23\u001b[0m \u001b[38;5;28mprint\u001b[39m(\u001b[43mis_number_between_10_and_20\u001b[49m\u001b[43m(\u001b[49m\u001b[38;5;124;43m\"\u001b[39;49m\u001b[38;5;124;43m10\u001b[39;49m\u001b[38;5;124;43m\"\u001b[39;49m\u001b[43m)\u001b[49m)\n",
      "Cell \u001b[0;32mIn[6], line 2\u001b[0m, in \u001b[0;36mis_number_between_10_and_20\u001b[0;34m(some_number)\u001b[0m\n\u001b[1;32m      1\u001b[0m \u001b[38;5;28;01mdef\u001b[39;00m \u001b[38;5;21mis_number_between_10_and_20\u001b[39m( some_number ):\n\u001b[0;32m----> 2\u001b[0m     \u001b[38;5;28;01mif\u001b[39;00m \u001b[43msome_number\u001b[49m\u001b[43m \u001b[49m\u001b[38;5;241;43m<\u001b[39;49m\u001b[43m \u001b[49m\u001b[38;5;241;43m10\u001b[39;49m:\n\u001b[1;32m      3\u001b[0m         \u001b[38;5;28;01mreturn\u001b[39;00m \u001b[38;5;28;01mFalse\u001b[39;00m\n\u001b[1;32m      4\u001b[0m     \u001b[38;5;28;01melif\u001b[39;00m some_number \u001b[38;5;241m>\u001b[39m \u001b[38;5;241m20\u001b[39m:\n",
      "\u001b[0;31mTypeError\u001b[0m: '<' not supported between instances of 'str' and 'int'"
     ]
    }
   ],
   "source": [
    "def is_number_between_10_and_20( some_number ):\n",
    "    if some_number < 10:\n",
    "        return False\n",
    "    elif some_number > 20:\n",
    "        return False\n",
    "    else:\n",
    "        return True\n",
    "\n",
    "print(is_number_between_10_and_20(4))\n",
    "print(is_number_between_10_and_20(9))\n",
    "\n",
    "print(is_number_between_10_and_20(10))\n",
    "print(is_number_between_10_and_20(14))\n",
    "print(is_number_between_10_and_20(20))\n",
    "\n",
    "print(is_number_between_10_and_20(21))\n",
    "print(is_number_between_10_and_20(100))\n",
    "\n",
    "\n",
    "print(is_number_between_10_and_20(10))\n",
    "\n",
    "\n",
    "print(is_number_between_10_and_20(\"10\"))"
   ]
  },
  {
   "cell_type": "markdown",
   "metadata": {},
   "source": [
    "### TASK 1 - is_weekend?\n",
    "\n",
    "Write a function called `is_weekend` which takes a name of the day eg 'Monday' and returns True or False, depending on whether that day is a weekend day. Look at the tests below for examples and edge cases.\n",
    "\n",
    "Only use `if elif else < <= == >= > and or`"
   ]
  },
  {
   "cell_type": "code",
   "execution_count": 15,
   "metadata": {},
   "outputs": [],
   "source": [
    "def is_weekend( day_name ):\n",
    "    if day_name in [\"Monday\", \"Tuesday\", \"Wednesday\", \"Thursday\"]:\n",
    "        return False\n",
    "    elif day_name in [\"Friday\", \"Saturday\", \"Sunday\"]:\n",
    "        return True\n",
    "    else:\n",
    "        return False\n"
   ]
  },
  {
   "cell_type": "code",
   "execution_count": 13,
   "metadata": {},
   "outputs": [
    {
     "name": "stdout",
     "output_type": "stream",
     "text": [
      "True\n"
     ]
    }
   ],
   "source": [
    "print(is_weekend(\"Sunday\"))"
   ]
  },
  {
   "cell_type": "code",
   "execution_count": 16,
   "metadata": {},
   "outputs": [
    {
     "name": "stdout",
     "output_type": "stream",
     "text": [
      "yay! tests worked!\n"
     ]
    }
   ],
   "source": [
    "assert is_weekend(\"Sunday\") == True\n",
    "assert is_weekend(\"Saturday\") == True\n",
    "assert is_weekend(\"Friday\") == True\n",
    "\n",
    "assert is_weekend(\"Monday\") == False\n",
    "assert is_weekend(\"Tuesday\") == False\n",
    "\n",
    "assert is_weekend(\"Banana\") == False\n",
    "print(\"yay! tests worked!\")"
   ]
  },
  {
   "cell_type": "markdown",
   "metadata": {},
   "source": [
    "### TASK 2 - get_largest!"
   ]
  },
  {
   "cell_type": "markdown",
   "metadata": {},
   "source": [
    "Write a function `get_largest(n1,n2,n3)` that takes three numbers and **returns** the largest one. Think: what makes a number largest?\n",
    "\n",
    "Only use `if elif else < <= == >= > and or`"
   ]
  },
  {
   "cell_type": "code",
   "execution_count": 17,
   "metadata": {},
   "outputs": [],
   "source": [
    "# your solution\n",
    "def get_largest(n1,n2,n3):\n",
    "    if n1 >= n2 and n1 >= n3:\n",
    "        return n1\n",
    "    elif n2 >= n1 and n2 >= n3:\n",
    "        return n2\n",
    "    else: # n3 > n1 and n3 > n2\n",
    "        return n3"
   ]
  },
  {
   "cell_type": "code",
   "execution_count": 18,
   "metadata": {},
   "outputs": [
    {
     "name": "stdout",
     "output_type": "stream",
     "text": [
      "5\n"
     ]
    }
   ],
   "source": [
    "# see it work. \n",
    "# (if a particular test does not work, \n",
    "# it's a good idea to 'print' the scenario that fails)\n",
    "print( get_largest(3,4,5) )"
   ]
  },
  {
   "cell_type": "code",
   "execution_count": 19,
   "metadata": {},
   "outputs": [
    {
     "name": "stdout",
     "output_type": "stream",
     "text": [
      "yay! tests worked!\n"
     ]
    }
   ],
   "source": [
    "# run tests to see if it works:\n",
    "assert get_largest(3,4,5) == 5\n",
    "assert get_largest(6,4,5) == 6\n",
    "assert get_largest(-2,4,-5) == 4\n",
    "print(\"yay! tests worked!\")"
   ]
  },
  {
   "cell_type": "code",
   "execution_count": 20,
   "metadata": {},
   "outputs": [
    {
     "name": "stdout",
     "output_type": "stream",
     "text": [
      "yay! tests worked!\n"
     ]
    }
   ],
   "source": [
    "# more tests\n",
    "assert get_largest(6,4,6) == 6\n",
    "assert get_largest(3,3,5) == 5\n",
    "assert get_largest(3,5,3) == 5\n",
    "assert get_largest(5,3,3) == 5\n",
    "assert get_largest(3,3,3) == 3\n",
    "print(\"yay! tests worked!\")"
   ]
  },
  {
   "cell_type": "markdown",
   "metadata": {},
   "source": [
    "### Demo: And Or, brackets"
   ]
  },
  {
   "cell_type": "code",
   "execution_count": 21,
   "metadata": {},
   "outputs": [
    {
     "name": "stdout",
     "output_type": "stream",
     "text": [
      "Grr! It always rains on Weekends!⛈\n"
     ]
    }
   ],
   "source": [
    "# demo. What does this code do?\n",
    "rains = True\n",
    "day = 'Friday'\n",
    "\n",
    "if rains == True and (day == 'Friday' or day == 'Saturday' or day == 'Sunday'):\n",
    "    print(\"Grr! It always rains on Weekends!⛈\")\n",
    "else:\n",
    "    print(\"What's that yellow object in the sky?🌤\")"
   ]
  },
  {
   "cell_type": "markdown",
   "metadata": {},
   "source": [
    "### TASK 3 -  are_in_order(n1,n2,n3,n4)"
   ]
  },
  {
   "cell_type": "markdown",
   "metadata": {},
   "source": [
    "Write a function `are_in_order(n1,n2,n3,n4)` use tests below to understand what it needs to do. Remember that function needs to return something!\n",
    "\n",
    "Only use `if elif else < <= == >= > and or`"
   ]
  },
  {
   "cell_type": "code",
   "execution_count": 27,
   "metadata": {},
   "outputs": [],
   "source": [
    "def are_in_order(n1,n2,n3,n4):\n",
    "    if n1 <= n2 and n2 <= n3 and n3 <= n4:\n",
    "        return True\n",
    "    else: \n",
    "        return False\n"
   ]
  },
  {
   "cell_type": "code",
   "execution_count": 24,
   "metadata": {},
   "outputs": [
    {
     "name": "stdout",
     "output_type": "stream",
     "text": [
      "True\n"
     ]
    }
   ],
   "source": [
    "# see it work\n",
    "print(are_in_order(2,3,7,9))"
   ]
  },
  {
   "cell_type": "code",
   "execution_count": 25,
   "metadata": {},
   "outputs": [
    {
     "name": "stdout",
     "output_type": "stream",
     "text": [
      "yay! tests worked!\n"
     ]
    }
   ],
   "source": [
    "# expected results:\n",
    "assert are_in_order(1,2,3,4) == True\n",
    "assert are_in_order(1,3,4,6) == True\n",
    "assert are_in_order(2,3,4,1) == False\n",
    "assert are_in_order(2,1,4,6) == False\n",
    "print(\"yay! tests worked!\")"
   ]
  },
  {
   "cell_type": "code",
   "execution_count": 28,
   "metadata": {},
   "outputs": [
    {
     "name": "stdout",
     "output_type": "stream",
     "text": [
      "yay! tests worked!\n"
     ]
    }
   ],
   "source": [
    "assert are_in_order(6,3,2,1) == False\n",
    "assert are_in_order(4,3,2,1) == False\n",
    "assert are_in_order(2,2,5,7) == True\n",
    "assert are_in_order(2,2,2,1) == False\n",
    "assert are_in_order(2,2,2,2) == True\n",
    "print(\"yay! tests worked!\")"
   ]
  },
  {
   "cell_type": "markdown",
   "metadata": {},
   "source": [
    "### TASK 4 - Write a function are_words_unique(w1,w2, w3)"
   ]
  },
  {
   "cell_type": "markdown",
   "metadata": {},
   "source": [
    "Write a function are_words_unique(w1,w2, w3) that takes three words and returns True if they are different from each other.\n",
    "\n",
    "Python is case-sensitive, so \"BANanA\" and \"banana\" are different from each other. Have a look at the tests.\n",
    "\n",
    "Also, while 'equals symbol' `==` means 'both sides are the same', its reverse is 'not equals symbol' `!=` which means 'both sides are different'. eg. `3 != 4` would return value `True` because 3 is not equal 4. "
   ]
  },
  {
   "cell_type": "code",
   "execution_count": null,
   "metadata": {},
   "outputs": [],
   "source": [
    "# your solution\n",
    "def are_words_unique(w1,w2,w3):\n",
    "    return False # silly solution! always False :D change it"
   ]
  },
  {
   "cell_type": "code",
   "execution_count": null,
   "metadata": {},
   "outputs": [],
   "source": [
    "print(are_words_unique(\"yay\", \"YAY\", \"Banana\"))"
   ]
  },
  {
   "cell_type": "code",
   "execution_count": null,
   "metadata": {},
   "outputs": [],
   "source": [
    "assert are_words_unique(\"banana\", \"banana\", \"banana\") == False\n",
    "assert are_words_unique(\"yay\", \"nope\", \"Banana\") == True\n",
    "assert are_words_unique(\"yay\", \"yaY\", \"YAY\") == True\n",
    "print(\"yay! tests worked!\")"
   ]
  },
  {
   "cell_type": "code",
   "execution_count": null,
   "metadata": {},
   "outputs": [],
   "source": [
    "assert are_words_unique(\"yay\", \"yay\", \"YAY\") == False\n",
    "assert are_words_unique(\"yay\", \"YAY\", \"yay\") == False\n",
    "assert are_words_unique(\"banana\", \"banana\", \"banana\") == False\n",
    "assert are_words_unique(\"\", \"\", \"\") == False\n",
    "print(\"yay! tests worked!\")"
   ]
  },
  {
   "cell_type": "markdown",
   "metadata": {},
   "source": [
    "### TASK 5"
   ]
  },
  {
   "cell_type": "code",
   "execution_count": null,
   "metadata": {},
   "outputs": [],
   "source": [
    "def how_many_days_in_month(which_month):\n",
    "    #     assume it's year 2024\n",
    "    return 0"
   ]
  },
  {
   "cell_type": "code",
   "execution_count": null,
   "metadata": {},
   "outputs": [],
   "source": [
    "print(how_many_days_in_month(1))"
   ]
  },
  {
   "cell_type": "code",
   "execution_count": null,
   "metadata": {},
   "outputs": [],
   "source": [
    "assert how_many_days_in_month(1) == 31\n",
    "assert how_many_days_in_month(2) == 29\n",
    "assert how_many_days_in_month(3) == 31\n",
    "assert how_many_days_in_month(12) == 31\n",
    "print(\"yay! tests worked!\")"
   ]
  },
  {
   "cell_type": "code",
   "execution_count": null,
   "metadata": {},
   "outputs": [],
   "source": [
    "assert how_many_days_in_month(-2) == 0\n",
    "assert how_many_days_in_month(0) == 0\n",
    "assert how_many_days_in_month(13) == 0\n",
    "print(\"yay! tests worked!\")"
   ]
  },
  {
   "cell_type": "markdown",
   "metadata": {},
   "source": [
    "### TASK 6"
   ]
  },
  {
   "cell_type": "code",
   "execution_count": null,
   "metadata": {},
   "outputs": [],
   "source": [
    "def is_this_a_valid_calendar_date(day_number, month_number):\n",
    "    #     assume it's year 2024\n",
    "    #     idea: could you call (not copy-paste) your function how_many_days_in_month() ??\n",
    "    return False"
   ]
  },
  {
   "cell_type": "code",
   "execution_count": null,
   "metadata": {},
   "outputs": [],
   "source": [
    "print(is_this_a_valid_calendar_date(11, 1))"
   ]
  },
  {
   "cell_type": "code",
   "execution_count": null,
   "metadata": {},
   "outputs": [],
   "source": [
    "assert is_this_a_valid_calendar_date(11, 1) == True\n",
    "assert is_this_a_valid_calendar_date(31, 1) == True\n",
    "assert is_this_a_valid_calendar_date(30, 2) == False\n",
    "assert is_this_a_valid_calendar_date(29, 2) == True\n",
    "assert is_this_a_valid_calendar_date(31, 5) == True\n",
    "assert is_this_a_valid_calendar_date(31, 4) == False\n",
    "print(\"yay! tests worked!\")"
   ]
  },
  {
   "cell_type": "code",
   "execution_count": null,
   "metadata": {},
   "outputs": [],
   "source": [
    "assert is_this_a_valid_calendar_date(0, 12) == False\n",
    "assert is_this_a_valid_calendar_date(12, 0) == False\n",
    "assert is_this_a_valid_calendar_date(32, 1) == False\n",
    "assert is_this_a_valid_calendar_date(32, 0) == False\n",
    "assert is_this_a_valid_calendar_date(12, 13) == False\n",
    "print(\"yay! tests worked!\")"
   ]
  },
  {
   "cell_type": "code",
   "execution_count": null,
   "metadata": {},
   "outputs": [],
   "source": [
    "# if you still have time:\n",
    "# create your own challange, \n",
    "# write wrong \"banana\" solution \n",
    "# write tests, see them fail\n",
    "# and then fix solution, and re-run the tests"
   ]
  },
  {
   "cell_type": "code",
   "execution_count": null,
   "metadata": {},
   "outputs": [],
   "source": []
  },
  {
   "cell_type": "code",
   "execution_count": null,
   "metadata": {},
   "outputs": [],
   "source": []
  },
  {
   "cell_type": "code",
   "execution_count": null,
   "metadata": {},
   "outputs": [],
   "source": []
  },
  {
   "cell_type": "code",
   "execution_count": null,
   "metadata": {},
   "outputs": [],
   "source": []
  },
  {
   "cell_type": "code",
   "execution_count": null,
   "metadata": {},
   "outputs": [],
   "source": []
  }
 ],
 "metadata": {
  "celltoolbar": "Create Assignment",
  "kernelspec": {
   "display_name": "Python 3 (ipykernel)",
   "language": "python",
   "name": "python3"
  },
  "language_info": {
   "codemirror_mode": {
    "name": "ipython",
    "version": 3
   },
   "file_extension": ".py",
   "mimetype": "text/x-python",
   "name": "python",
   "nbconvert_exporter": "python",
   "pygments_lexer": "ipython3",
   "version": "3.9.13"
  }
 },
 "nbformat": 4,
 "nbformat_minor": 2
}
